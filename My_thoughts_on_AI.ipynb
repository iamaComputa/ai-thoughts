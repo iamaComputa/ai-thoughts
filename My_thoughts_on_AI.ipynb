{
  "nbformat": 4,
  "nbformat_minor": 0,
  "metadata": {
    "colab": {
      "provenance": [],
      "toc_visible": true,
      "authorship_tag": "ABX9TyN+pVH7HrBaQ+YywWkKinO8",
      "include_colab_link": true
    },
    "kernelspec": {
      "name": "python3",
      "display_name": "Python 3"
    },
    "language_info": {
      "name": "python"
    }
  },
  "cells": [
    {
      "cell_type": "markdown",
      "metadata": {
        "id": "view-in-github",
        "colab_type": "text"
      },
      "source": [
        "<a href=\"https://colab.research.google.com/github/iamaComputa/ai-thoughts/blob/main/My_thoughts_on_AI.ipynb\" target=\"_parent\"><img src=\"https://colab.research.google.com/assets/colab-badge.svg\" alt=\"Open In Colab\"/></a>"
      ]
    },
    {
      "cell_type": "code",
      "execution_count": 1,
      "metadata": {
        "colab": {
          "base_uri": "https://localhost:8080/"
        },
        "id": "P5Ag0YQkLrBb",
        "outputId": "8e2b6d24-cac9-4094-d06e-b784930f0cf3"
      },
      "outputs": [
        {
          "output_type": "stream",
          "name": "stdout",
          "text": [
            "Hello Universe!\n"
          ]
        }
      ],
      "source": [
        "print(\"Hello Universe!\")"
      ]
    },
    {
      "cell_type": "markdown",
      "source": [
        "## Things I want to do with AI\n",
        "* Have fun\n",
        "* Take over the world"
      ],
      "metadata": {
        "id": "ZHLFZU3oO6vg"
      }
    }
  ]
}