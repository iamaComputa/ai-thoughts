{
  "nbformat": 4,
  "nbformat_minor": 0,
  "metadata": {
    "colab": {
      "provenance": [],
      "authorship_tag": "ABX9TyOvVNdgI2zUawgyhC5ym22I",
      "include_colab_link": true
    },
    "kernelspec": {
      "name": "python3",
      "display_name": "Python 3"
    },
    "language_info": {
      "name": "python"
    }
  },
  "cells": [
    {
      "cell_type": "markdown",
      "metadata": {
        "id": "view-in-github",
        "colab_type": "text"
      },
      "source": [
        "<a href=\"https://colab.research.google.com/github/iamaComputa/ai-thoughts/blob/main/README.ipynb\" target=\"_parent\"><img src=\"https://colab.research.google.com/assets/colab-badge.svg\" alt=\"Open In Colab\"/></a>"
      ]
    },
    {
      "cell_type": "code",
      "execution_count": null,
      "metadata": {
        "id": "r5qXg8BDRdYd"
      },
      "outputs": [],
      "source": []
    },
    {
      "cell_type": "markdown",
      "source": [
        "Google Colab can not work with ReadMe,md files like Jupyter Notebooks can. So have to create a notebook in Google and do a \"Save a Copy in Github\" when ever changes are made. Google autosaves the notebook in Drive (and has version history) but Githib commits work differently than in Jupyter."
      ],
      "metadata": {
        "id": "yn_OUTtmRiJE"
      }
    }
  ]
}